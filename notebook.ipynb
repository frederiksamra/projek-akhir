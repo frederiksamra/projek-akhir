{
  "cells": [
    {
      "cell_type": "markdown",
      "metadata": {
        "id": "H9wADwK78DCz"
      },
      "source": [
        "# Proyek Analisis Data: Bike Sharing Dataset\n",
        "- **Nama:** Frederik Samra Sarongallo\n",
        "- **Email:** m239b4ky1557@bangkit.academy\n",
        "- **ID Dicoding:** frederik_samra"
      ]
    },
    {
      "cell_type": "markdown",
      "metadata": {
        "id": "eE0raob58DC0"
      },
      "source": [
        "## Menentukan Pertanyaan Bisnis"
      ]
    },
    {
      "cell_type": "markdown",
      "metadata": {
        "id": "GmQeQ5YF8DC0"
      },
      "source": [
        "- Pada hari apa penyewaan sepeda paling banyak dilakukan?\n",
        "- Pada jam berapa penyewaan sepeda paling banyak dilakukan?\n",
        "- Bagaimana pengaruh cuaca terkait dengan jumlah penyewaan sepada?"
      ]
    },
    {
      "cell_type": "markdown",
      "metadata": {
        "id": "H-z4QGlO8DC1"
      },
      "source": [
        "## Import Semua Packages/Library yang Digunakan"
      ]
    },
    {
      "cell_type": "code",
      "execution_count": 2,
      "metadata": {
        "id": "FVYwaObI8DC1"
      },
      "outputs": [],
      "source": [
        "import numpy as np\n",
        "import pandas as pd\n",
        "import matplotlib.pyplot as plt\n",
        "import seaborn as sns\n",
        "import scipy\n",
        "from scipy import stats\n",
        "import streamlit as st\n",
        "import matplotlib.ticker as ticker"
      ]
    },
    {
      "cell_type": "markdown",
      "metadata": {
        "id": "h_Sh51Xy8DC1"
      },
      "source": [
        "## Data Wrangling"
      ]
    },
    {
      "cell_type": "markdown",
      "metadata": {
        "id": "sXU2GBYu8DC1"
      },
      "source": [
        "### Gathering Data"
      ]
    },
    {
      "cell_type": "code",
      "execution_count": 3,
      "metadata": {
        "colab": {
          "base_uri": "https://localhost:8080/"
        },
        "collapsed": true,
        "id": "zjCBk1BI8DC1",
        "outputId": "3bac0531-167c-4e90-dbff-1687383a67f5"
      },
      "outputs": [
        {
          "name": "stdout",
          "output_type": "stream",
          "text": [
            "\n",
            " ===================== Table Day ========================= \n",
            "\n",
            "   instant      dteday  season  yr  mnth  holiday  weekday  workingday  \\\n",
            "0        1  2011-01-01       1   0     1        0        6           0   \n",
            "1        2  2011-01-02       1   0     1        0        0           0   \n",
            "2        3  2011-01-03       1   0     1        0        1           1   \n",
            "3        4  2011-01-04       1   0     1        0        2           1   \n",
            "4        5  2011-01-05       1   0     1        0        3           1   \n",
            "\n",
            "   weathersit      temp     atemp       hum  windspeed  casual  registered  \\\n",
            "0           2  0.344167  0.363625  0.805833   0.160446     331         654   \n",
            "1           2  0.363478  0.353739  0.696087   0.248539     131         670   \n",
            "2           1  0.196364  0.189405  0.437273   0.248309     120        1229   \n",
            "3           1  0.200000  0.212122  0.590435   0.160296     108        1454   \n",
            "4           1  0.226957  0.229270  0.436957   0.186900      82        1518   \n",
            "\n",
            "    cnt  \n",
            "0   985  \n",
            "1   801  \n",
            "2  1349  \n",
            "3  1562  \n",
            "4  1600  \n",
            "\n",
            " ===================== Table Hour ========================= \n",
            "\n",
            "   instant      dteday  season  yr  mnth  hr  holiday  weekday  workingday  \\\n",
            "0        1  2011-01-01       1   0     1   0        0        6           0   \n",
            "1        2  2011-01-01       1   0     1   1        0        6           0   \n",
            "2        3  2011-01-01       1   0     1   2        0        6           0   \n",
            "3        4  2011-01-01       1   0     1   3        0        6           0   \n",
            "4        5  2011-01-01       1   0     1   4        0        6           0   \n",
            "\n",
            "   weathersit  temp   atemp   hum  windspeed  casual  registered  cnt  \n",
            "0           1  0.24  0.2879  0.81        0.0       3          13   16  \n",
            "1           1  0.22  0.2727  0.80        0.0       8          32   40  \n",
            "2           1  0.22  0.2727  0.80        0.0       5          27   32  \n",
            "3           1  0.24  0.2879  0.75        0.0       3          10   13  \n",
            "4           1  0.24  0.2879  0.75        0.0       0           1    1  \n"
          ]
        }
      ],
      "source": [
        "#Table Day\n",
        "day_df = pd.read_csv(\"https://raw.githubusercontent.com/frederiksamra/projek-akhir/refs/heads/main/data/day.csv\")\n",
        "print(\"\\n ===================== Table Day ========================= \\n\")\n",
        "print(day_df.head())\n",
        "\n",
        "#Table Hour\n",
        "hour_df = pd.read_csv(\"https://raw.githubusercontent.com/frederiksamra/projek-akhir/refs/heads/main/data/hour.csv\")\n",
        "print(\"\\n ===================== Table Hour ========================= \\n\")\n",
        "print(hour_df.head())"
      ]
    },
    {
      "cell_type": "markdown",
      "metadata": {
        "id": "MMi6xGaDkbCi"
      },
      "source": [
        "**Insight:**\n",
        "- Kita dapat mengetahui bahwa pada tabel day memiliki total 16 kolom (instant, dteday, season, yr, mnth, holiday, weekday, workingday, weathersit, temp, atemp, hum, windspeed, casual, registered, cnt) dan juga memperoleh informasi mengenai 5 data pertama yang ada di dalam tabel day\n",
        "- Tabel hour memiliki total 17 kolom (instant, dteday, season, yr, mnth, hr, holiday, weekday, workingday, weathersit, tempa, hum, windspeed, casual, registered, cnt) dan juga kita memperoleh 5 data pertama yang ada di dalam tabel hour"
      ]
    },
    {
      "cell_type": "markdown",
      "metadata": {
        "id": "FHSiqaZp8DC1"
      },
      "source": [
        "### Assessing Data"
      ]
    },
    {
      "cell_type": "code",
      "execution_count": 4,
      "metadata": {
        "colab": {
          "base_uri": "https://localhost:8080/",
          "height": 1000
        },
        "collapsed": true,
        "id": "ax-3tEjc9Cj1",
        "outputId": "6c87e1be-063d-4d72-9025-851ce0f92754"
      },
      "outputs": [
        {
          "name": "stdout",
          "output_type": "stream",
          "text": [
            "\n",
            " ===================== Day Info ========================= \n",
            "\n",
            "<class 'pandas.core.frame.DataFrame'>\n",
            "RangeIndex: 731 entries, 0 to 730\n",
            "Data columns (total 16 columns):\n",
            " #   Column      Non-Null Count  Dtype  \n",
            "---  ------      --------------  -----  \n",
            " 0   instant     731 non-null    int64  \n",
            " 1   dteday      731 non-null    object \n",
            " 2   season      731 non-null    int64  \n",
            " 3   yr          731 non-null    int64  \n",
            " 4   mnth        731 non-null    int64  \n",
            " 5   holiday     731 non-null    int64  \n",
            " 6   weekday     731 non-null    int64  \n",
            " 7   workingday  731 non-null    int64  \n",
            " 8   weathersit  731 non-null    int64  \n",
            " 9   temp        731 non-null    float64\n",
            " 10  atemp       731 non-null    float64\n",
            " 11  hum         731 non-null    float64\n",
            " 12  windspeed   731 non-null    float64\n",
            " 13  casual      731 non-null    int64  \n",
            " 14  registered  731 non-null    int64  \n",
            " 15  cnt         731 non-null    int64  \n",
            "dtypes: float64(4), int64(11), object(1)\n",
            "memory usage: 91.5+ KB\n",
            "None\n",
            "\n",
            " ===================== Day Check Duplicate ========================= \n",
            "\n",
            "Jumlah duplikasi:  0\n",
            "\n",
            " ===================== Day Describe ========================= \n",
            "\n",
            "          instant      season          yr        mnth     holiday     weekday  \\\n",
            "count  731.000000  731.000000  731.000000  731.000000  731.000000  731.000000   \n",
            "mean   366.000000    2.496580    0.500684    6.519836    0.028728    2.997264   \n",
            "std    211.165812    1.110807    0.500342    3.451913    0.167155    2.004787   \n",
            "min      1.000000    1.000000    0.000000    1.000000    0.000000    0.000000   \n",
            "25%    183.500000    2.000000    0.000000    4.000000    0.000000    1.000000   \n",
            "50%    366.000000    3.000000    1.000000    7.000000    0.000000    3.000000   \n",
            "75%    548.500000    3.000000    1.000000   10.000000    0.000000    5.000000   \n",
            "max    731.000000    4.000000    1.000000   12.000000    1.000000    6.000000   \n",
            "\n",
            "       workingday  weathersit        temp       atemp         hum   windspeed  \\\n",
            "count  731.000000  731.000000  731.000000  731.000000  731.000000  731.000000   \n",
            "mean     0.683995    1.395349    0.495385    0.474354    0.627894    0.190486   \n",
            "std      0.465233    0.544894    0.183051    0.162961    0.142429    0.077498   \n",
            "min      0.000000    1.000000    0.059130    0.079070    0.000000    0.022392   \n",
            "25%      0.000000    1.000000    0.337083    0.337842    0.520000    0.134950   \n",
            "50%      1.000000    1.000000    0.498333    0.486733    0.626667    0.180975   \n",
            "75%      1.000000    2.000000    0.655417    0.608602    0.730209    0.233214   \n",
            "max      1.000000    3.000000    0.861667    0.840896    0.972500    0.507463   \n",
            "\n",
            "            casual   registered          cnt  \n",
            "count   731.000000   731.000000   731.000000  \n",
            "mean    848.176471  3656.172367  4504.348837  \n",
            "std     686.622488  1560.256377  1937.211452  \n",
            "min       2.000000    20.000000    22.000000  \n",
            "25%     315.500000  2497.000000  3152.000000  \n",
            "50%     713.000000  3662.000000  4548.000000  \n",
            "75%    1096.000000  4776.500000  5956.000000  \n",
            "max    3410.000000  6946.000000  8714.000000  \n",
            "\n",
            " ===================== Hour Info ========================= \n",
            "\n",
            "<class 'pandas.core.frame.DataFrame'>\n",
            "RangeIndex: 17379 entries, 0 to 17378\n",
            "Data columns (total 17 columns):\n",
            " #   Column      Non-Null Count  Dtype  \n",
            "---  ------      --------------  -----  \n",
            " 0   instant     17379 non-null  int64  \n",
            " 1   dteday      17379 non-null  object \n",
            " 2   season      17379 non-null  int64  \n",
            " 3   yr          17379 non-null  int64  \n",
            " 4   mnth        17379 non-null  int64  \n",
            " 5   hr          17379 non-null  int64  \n",
            " 6   holiday     17379 non-null  int64  \n",
            " 7   weekday     17379 non-null  int64  \n",
            " 8   workingday  17379 non-null  int64  \n",
            " 9   weathersit  17379 non-null  int64  \n",
            " 10  temp        17379 non-null  float64\n",
            " 11  atemp       17379 non-null  float64\n",
            " 12  hum         17379 non-null  float64\n",
            " 13  windspeed   17379 non-null  float64\n",
            " 14  casual      17379 non-null  int64  \n",
            " 15  registered  17379 non-null  int64  \n",
            " 16  cnt         17379 non-null  int64  \n",
            "dtypes: float64(4), int64(12), object(1)\n",
            "memory usage: 2.3+ MB\n",
            "None\n",
            "\n",
            " ===================== Hour Check Duplicate ========================= \n",
            "\n",
            "Jumlah duplikasi:  0\n",
            "\n",
            " ===================== Hour Describe ========================= \n",
            "\n"
          ]
        },
        {
          "data": {
            "text/html": [
              "<div>\n",
              "<style scoped>\n",
              "    .dataframe tbody tr th:only-of-type {\n",
              "        vertical-align: middle;\n",
              "    }\n",
              "\n",
              "    .dataframe tbody tr th {\n",
              "        vertical-align: top;\n",
              "    }\n",
              "\n",
              "    .dataframe thead th {\n",
              "        text-align: right;\n",
              "    }\n",
              "</style>\n",
              "<table border=\"1\" class=\"dataframe\">\n",
              "  <thead>\n",
              "    <tr style=\"text-align: right;\">\n",
              "      <th></th>\n",
              "      <th>instant</th>\n",
              "      <th>season</th>\n",
              "      <th>yr</th>\n",
              "      <th>mnth</th>\n",
              "      <th>hr</th>\n",
              "      <th>holiday</th>\n",
              "      <th>weekday</th>\n",
              "      <th>workingday</th>\n",
              "      <th>weathersit</th>\n",
              "      <th>temp</th>\n",
              "      <th>atemp</th>\n",
              "      <th>hum</th>\n",
              "      <th>windspeed</th>\n",
              "      <th>casual</th>\n",
              "      <th>registered</th>\n",
              "      <th>cnt</th>\n",
              "    </tr>\n",
              "  </thead>\n",
              "  <tbody>\n",
              "    <tr>\n",
              "      <th>count</th>\n",
              "      <td>17379.0000</td>\n",
              "      <td>17379.000000</td>\n",
              "      <td>17379.000000</td>\n",
              "      <td>17379.000000</td>\n",
              "      <td>17379.000000</td>\n",
              "      <td>17379.000000</td>\n",
              "      <td>17379.000000</td>\n",
              "      <td>17379.000000</td>\n",
              "      <td>17379.000000</td>\n",
              "      <td>17379.000000</td>\n",
              "      <td>17379.000000</td>\n",
              "      <td>17379.000000</td>\n",
              "      <td>17379.000000</td>\n",
              "      <td>17379.000000</td>\n",
              "      <td>17379.000000</td>\n",
              "      <td>17379.000000</td>\n",
              "    </tr>\n",
              "    <tr>\n",
              "      <th>mean</th>\n",
              "      <td>8690.0000</td>\n",
              "      <td>2.501640</td>\n",
              "      <td>0.502561</td>\n",
              "      <td>6.537775</td>\n",
              "      <td>11.546752</td>\n",
              "      <td>0.028770</td>\n",
              "      <td>3.003683</td>\n",
              "      <td>0.682721</td>\n",
              "      <td>1.425283</td>\n",
              "      <td>0.496987</td>\n",
              "      <td>0.475775</td>\n",
              "      <td>0.627229</td>\n",
              "      <td>0.190098</td>\n",
              "      <td>35.676218</td>\n",
              "      <td>153.786869</td>\n",
              "      <td>189.463088</td>\n",
              "    </tr>\n",
              "    <tr>\n",
              "      <th>std</th>\n",
              "      <td>5017.0295</td>\n",
              "      <td>1.106918</td>\n",
              "      <td>0.500008</td>\n",
              "      <td>3.438776</td>\n",
              "      <td>6.914405</td>\n",
              "      <td>0.167165</td>\n",
              "      <td>2.005771</td>\n",
              "      <td>0.465431</td>\n",
              "      <td>0.639357</td>\n",
              "      <td>0.192556</td>\n",
              "      <td>0.171850</td>\n",
              "      <td>0.192930</td>\n",
              "      <td>0.122340</td>\n",
              "      <td>49.305030</td>\n",
              "      <td>151.357286</td>\n",
              "      <td>181.387599</td>\n",
              "    </tr>\n",
              "    <tr>\n",
              "      <th>min</th>\n",
              "      <td>1.0000</td>\n",
              "      <td>1.000000</td>\n",
              "      <td>0.000000</td>\n",
              "      <td>1.000000</td>\n",
              "      <td>0.000000</td>\n",
              "      <td>0.000000</td>\n",
              "      <td>0.000000</td>\n",
              "      <td>0.000000</td>\n",
              "      <td>1.000000</td>\n",
              "      <td>0.020000</td>\n",
              "      <td>0.000000</td>\n",
              "      <td>0.000000</td>\n",
              "      <td>0.000000</td>\n",
              "      <td>0.000000</td>\n",
              "      <td>0.000000</td>\n",
              "      <td>1.000000</td>\n",
              "    </tr>\n",
              "    <tr>\n",
              "      <th>25%</th>\n",
              "      <td>4345.5000</td>\n",
              "      <td>2.000000</td>\n",
              "      <td>0.000000</td>\n",
              "      <td>4.000000</td>\n",
              "      <td>6.000000</td>\n",
              "      <td>0.000000</td>\n",
              "      <td>1.000000</td>\n",
              "      <td>0.000000</td>\n",
              "      <td>1.000000</td>\n",
              "      <td>0.340000</td>\n",
              "      <td>0.333300</td>\n",
              "      <td>0.480000</td>\n",
              "      <td>0.104500</td>\n",
              "      <td>4.000000</td>\n",
              "      <td>34.000000</td>\n",
              "      <td>40.000000</td>\n",
              "    </tr>\n",
              "    <tr>\n",
              "      <th>50%</th>\n",
              "      <td>8690.0000</td>\n",
              "      <td>3.000000</td>\n",
              "      <td>1.000000</td>\n",
              "      <td>7.000000</td>\n",
              "      <td>12.000000</td>\n",
              "      <td>0.000000</td>\n",
              "      <td>3.000000</td>\n",
              "      <td>1.000000</td>\n",
              "      <td>1.000000</td>\n",
              "      <td>0.500000</td>\n",
              "      <td>0.484800</td>\n",
              "      <td>0.630000</td>\n",
              "      <td>0.194000</td>\n",
              "      <td>17.000000</td>\n",
              "      <td>115.000000</td>\n",
              "      <td>142.000000</td>\n",
              "    </tr>\n",
              "    <tr>\n",
              "      <th>75%</th>\n",
              "      <td>13034.5000</td>\n",
              "      <td>3.000000</td>\n",
              "      <td>1.000000</td>\n",
              "      <td>10.000000</td>\n",
              "      <td>18.000000</td>\n",
              "      <td>0.000000</td>\n",
              "      <td>5.000000</td>\n",
              "      <td>1.000000</td>\n",
              "      <td>2.000000</td>\n",
              "      <td>0.660000</td>\n",
              "      <td>0.621200</td>\n",
              "      <td>0.780000</td>\n",
              "      <td>0.253700</td>\n",
              "      <td>48.000000</td>\n",
              "      <td>220.000000</td>\n",
              "      <td>281.000000</td>\n",
              "    </tr>\n",
              "    <tr>\n",
              "      <th>max</th>\n",
              "      <td>17379.0000</td>\n",
              "      <td>4.000000</td>\n",
              "      <td>1.000000</td>\n",
              "      <td>12.000000</td>\n",
              "      <td>23.000000</td>\n",
              "      <td>1.000000</td>\n",
              "      <td>6.000000</td>\n",
              "      <td>1.000000</td>\n",
              "      <td>4.000000</td>\n",
              "      <td>1.000000</td>\n",
              "      <td>1.000000</td>\n",
              "      <td>1.000000</td>\n",
              "      <td>0.850700</td>\n",
              "      <td>367.000000</td>\n",
              "      <td>886.000000</td>\n",
              "      <td>977.000000</td>\n",
              "    </tr>\n",
              "  </tbody>\n",
              "</table>\n",
              "</div>"
            ],
            "text/plain": [
              "          instant        season            yr          mnth            hr  \\\n",
              "count  17379.0000  17379.000000  17379.000000  17379.000000  17379.000000   \n",
              "mean    8690.0000      2.501640      0.502561      6.537775     11.546752   \n",
              "std     5017.0295      1.106918      0.500008      3.438776      6.914405   \n",
              "min        1.0000      1.000000      0.000000      1.000000      0.000000   \n",
              "25%     4345.5000      2.000000      0.000000      4.000000      6.000000   \n",
              "50%     8690.0000      3.000000      1.000000      7.000000     12.000000   \n",
              "75%    13034.5000      3.000000      1.000000     10.000000     18.000000   \n",
              "max    17379.0000      4.000000      1.000000     12.000000     23.000000   \n",
              "\n",
              "            holiday       weekday    workingday    weathersit          temp  \\\n",
              "count  17379.000000  17379.000000  17379.000000  17379.000000  17379.000000   \n",
              "mean       0.028770      3.003683      0.682721      1.425283      0.496987   \n",
              "std        0.167165      2.005771      0.465431      0.639357      0.192556   \n",
              "min        0.000000      0.000000      0.000000      1.000000      0.020000   \n",
              "25%        0.000000      1.000000      0.000000      1.000000      0.340000   \n",
              "50%        0.000000      3.000000      1.000000      1.000000      0.500000   \n",
              "75%        0.000000      5.000000      1.000000      2.000000      0.660000   \n",
              "max        1.000000      6.000000      1.000000      4.000000      1.000000   \n",
              "\n",
              "              atemp           hum     windspeed        casual    registered  \\\n",
              "count  17379.000000  17379.000000  17379.000000  17379.000000  17379.000000   \n",
              "mean       0.475775      0.627229      0.190098     35.676218    153.786869   \n",
              "std        0.171850      0.192930      0.122340     49.305030    151.357286   \n",
              "min        0.000000      0.000000      0.000000      0.000000      0.000000   \n",
              "25%        0.333300      0.480000      0.104500      4.000000     34.000000   \n",
              "50%        0.484800      0.630000      0.194000     17.000000    115.000000   \n",
              "75%        0.621200      0.780000      0.253700     48.000000    220.000000   \n",
              "max        1.000000      1.000000      0.850700    367.000000    886.000000   \n",
              "\n",
              "                cnt  \n",
              "count  17379.000000  \n",
              "mean     189.463088  \n",
              "std      181.387599  \n",
              "min        1.000000  \n",
              "25%       40.000000  \n",
              "50%      142.000000  \n",
              "75%      281.000000  \n",
              "max      977.000000  "
            ]
          },
          "execution_count": 4,
          "metadata": {},
          "output_type": "execute_result"
        }
      ],
      "source": [
        "#Day\n",
        "print(\"\\n ===================== Day Info ========================= \\n\")\n",
        "print(day_df.info())\n",
        "print(\"\\n ===================== Day Check Duplicate ========================= \\n\")\n",
        "print(\"Jumlah duplikasi: \", day_df.duplicated().sum())\n",
        "print(\"\\n ===================== Day Describe ========================= \\n\")\n",
        "print(day_df.describe())\n",
        "\n",
        "#Hour\n",
        "print(\"\\n ===================== Hour Info ========================= \\n\")\n",
        "print(hour_df.info())\n",
        "print(\"\\n ===================== Hour Check Duplicate ========================= \\n\")\n",
        "print(\"Jumlah duplikasi: \", hour_df.duplicated().sum())\n",
        "print(\"\\n ===================== Hour Describe ========================= \\n\")\n",
        "hour_df.describe()\n"
      ]
    },
    {
      "cell_type": "markdown",
      "metadata": {
        "id": "7dtxhAPrkhPL"
      },
      "source": [
        "**Insight:**\n",
        "- jumlah data sesuai dan tidak terdapat duplikasi sehingga tidak terdapat permasalahan pada data tabel day\n",
        "- jumlah data sesuai dan tidak terdapat duplikasi sehingga tidak terdapat permasalahan pada data tabel hour"
      ]
    },
    {
      "cell_type": "markdown",
      "metadata": {
        "id": "EhN5R4hr8DC1"
      },
      "source": [
        "### Cleaning Data"
      ]
    },
    {
      "cell_type": "code",
      "execution_count": 26,
      "metadata": {
        "id": "jVnYpprE9Evz"
      },
      "outputs": [],
      "source": [
        "#Tidak terdapat masalah di dalam dataset sehingga tidap dilakukam cleaning data"
      ]
    },
    {
      "cell_type": "markdown",
      "metadata": {
        "id": "gp-Y6wU38DC1"
      },
      "source": [
        "## Exploratory Data Analysis (EDA)"
      ]
    },
    {
      "cell_type": "markdown",
      "metadata": {
        "id": "MW7WF2kr8DC1"
      },
      "source": [
        "### Explore ..."
      ]
    },
    {
      "cell_type": "code",
      "execution_count": 5,
      "metadata": {
        "colab": {
          "base_uri": "https://localhost:8080/"
        },
        "id": "e9CQCZjk8DC2",
        "outputId": "74b446ca-517b-4b60-a229-f8ba269ad139"
      },
      "outputs": [
        {
          "name": "stdout",
          "output_type": "stream",
          "text": [
            "        instant     cnt                                      \n",
            "        nunique     sum   max   min         mean          std\n",
            "weekday                                                      \n",
            "0           105  444027  8227   605  4228.828571  1872.496629\n",
            "1           105  455503  7525    22  4338.123810  1793.074013\n",
            "2           104  469109  7767   683  4510.663462  1826.911642\n",
            "3           104  473048  8173   441  4548.538462  2038.095884\n",
            "4           104  485395  7804   431  4667.259615  1939.433317\n",
            "5           104  487790  8362  1167  4690.288462  1874.624870\n",
            "6           105  477807  8714   627  4550.542857  2196.693009\n"
          ]
        }
      ],
      "source": [
        "# Day\n",
        "day_df.describe(include=\"all\")\n",
        "\n",
        "penyewa_day_agg = day_df.groupby(by=\"weekday\").agg({\n",
        "    \"instant\": \"nunique\",\n",
        "    \"cnt\": [\"sum\", \"max\", \"min\", \"mean\", \"std\"]\n",
        "})\n",
        "\n",
        "print(penyewa_day_agg)"
      ]
    },
    {
      "cell_type": "code",
      "execution_count": 6,
      "metadata": {
        "colab": {
          "base_uri": "https://localhost:8080/"
        },
        "id": "AYhK7om_rkhm",
        "outputId": "202efe5c-da8a-4223-dcde-44227ec77989"
      },
      "outputs": [
        {
          "name": "stdout",
          "output_type": "stream",
          "text": [
            "   instant     cnt                                 \n",
            "   nunique     sum  max min        mean         std\n",
            "hr                                                 \n",
            "0      726   39130  283   2   53.898072   42.307910\n",
            "1      724   24164  168   1   33.375691   33.538727\n",
            "2      715   16352  132   1   22.869930   26.578642\n",
            "3      697    8174   79   1   11.727403   13.239190\n",
            "4      697    4428   28   1    6.352941    4.143818\n",
            "5      717   14261   66   1   19.889819   13.200765\n",
            "6      725   55132  213   1   76.044138   55.084348\n",
            "7      727  154171  596   1  212.064649  161.441936\n",
            "8      727  261001  839   5  359.011004  235.189285\n",
            "9      727  159438  426  14  219.309491   93.703458\n",
            "10     727  126257  539   8  173.668501  102.205413\n",
            "11     727  151320  663  10  208.143054  127.495536\n",
            "12     728  184414  776   3  253.315934  145.081134\n",
            "13     729  184919  760  11  253.661180  148.107657\n",
            "14     729  175652  750  12  240.949246  147.271574\n",
            "15     729  183149  750   7  251.233196  144.632541\n",
            "16     730  227748  783  11  311.983562  148.682618\n",
            "17     730  336860  976  15  461.452055  232.656611\n",
            "18     728  309772  977  23  425.510989  224.639304\n",
            "19     728  226789  743  11  311.523352  161.050359\n",
            "20     728  164550  567  11  226.030220  119.670164\n",
            "21     728  125445  584   6  172.314560   89.788893\n",
            "22     728   95612  502   9  131.335165   69.937782\n",
            "23     728   63941  256   2   87.831044   50.846889\n"
          ]
        }
      ],
      "source": [
        "# Hour\n",
        "hour_df.describe(include=\"all\")\n",
        "penyewa_hour_agg = hour_df.groupby(by=\"hr\").agg({\n",
        "    \"instant\": \"nunique\",\n",
        "    \"cnt\": [\"sum\", \"max\", \"min\", \"mean\", \"std\"]\n",
        "})\n",
        "\n",
        "print(penyewa_hour_agg)"
      ]
    },
    {
      "cell_type": "markdown",
      "metadata": {
        "id": "0WTZMUWb-BcB"
      },
      "source": [
        "# Melihat hubungan antara hari dengan banyaknya penyewa berdasarkan kondisi cuaca"
      ]
    },
    {
      "cell_type": "code",
      "execution_count": 7,
      "metadata": {
        "colab": {
          "base_uri": "https://localhost:8080/"
        },
        "id": "rnweV3-0wTGj",
        "outputId": "a8833897-db9d-4fd8-d53f-b9171327ce61"
      },
      "outputs": [
        {
          "name": "stdout",
          "output_type": "stream",
          "text": [
            "           instant      cnt                                     \n",
            "           nunique      sum   max  min         mean          std\n",
            "weathersit                                                      \n",
            "1              463  2257952  8714  431  4876.786177  1879.483989\n",
            "2              247   996858  8362  605  4035.862348  1809.109918\n",
            "3               21    37869  4639   22  1803.285714  1240.284449\n"
          ]
        }
      ],
      "source": [
        "\n",
        "dayweather_agg = day_df.groupby(by=\"weathersit\").agg({\n",
        "    \"instant\": \"nunique\",\n",
        "    \"cnt\": [\"sum\", \"max\", \"min\", \"mean\", \"std\"]\n",
        "})\n",
        "\n",
        "print(dayweather_agg)"
      ]
    },
    {
      "cell_type": "markdown",
      "metadata": {
        "id": "T6HL1bsb-AAK"
      },
      "source": [
        "# Melihat hubungan antara jam dengan banyaknya penyewa berdasarkan cuaca"
      ]
    },
    {
      "cell_type": "code",
      "execution_count": 8,
      "metadata": {
        "colab": {
          "base_uri": "https://localhost:8080/"
        },
        "id": "1P70RRrUL9Xp",
        "outputId": "c5a52556-60e3-47f1-b962-9735e8f567eb"
      },
      "outputs": [
        {
          "name": "stdout",
          "output_type": "stream",
          "text": [
            "           instant      cnt                                 \n",
            "           nunique      sum  max min        mean         std\n",
            "weathersit                                                  \n",
            "1            11413  2338173  977   1  204.869272  189.487773\n",
            "2             4544   795952  957   1  175.165493  165.431589\n",
            "3             1419   158331  891   1  111.579281  133.781045\n",
            "4                3      223  164  23   74.333333   77.925178\n"
          ]
        }
      ],
      "source": [
        "hourweather_agg = hour_df.groupby(by=\"weathersit\").agg({\n",
        "    \"instant\": \"nunique\",\n",
        "    \"cnt\": [\"sum\", \"max\", \"min\", \"mean\", \"std\"]\n",
        "})\n",
        "\n",
        "print(hourweather_agg)"
      ]
    },
    {
      "cell_type": "markdown",
      "metadata": {
        "id": "th_Lzl2Fkj9O"
      },
      "source": [
        "**Insight:**\n",
        "- penyewaan sepeda terbanyak dilakukan pada weekday 5 sedangkan yang paling sedikit pada weekday 0 nilai ini berdasarkan total semua data yang ada  di dalam dataset\n",
        "- juga terdapat informasi mengenai jumlah terbanyak dan terkecil, median dan juga standar deviasi penyewaan sepeda pada setiap kondisi cuaca berdasarkan jam serta hari\n",
        "- selain itu juga terdapat perbedaan kondisi cuaca pada tabel hari dan jam dimana pada tabel hari hanya terdapat 3 kondisi cuaca sedangkan pada tabel hour terdapat 4 kondisi cuaca"
      ]
    },
    {
      "cell_type": "markdown",
      "metadata": {
        "id": "zsyZjqak8DC2"
      },
      "source": [
        "## Visualization & Explanatory Analysis"
      ]
    },
    {
      "cell_type": "markdown",
      "metadata": {
        "id": "HZxOiQ6n8DC2"
      },
      "source": [
        "### Pertanyaan 1:"
      ]
    },
    {
      "cell_type": "code",
      "execution_count": 9,
      "metadata": {
        "colab": {
          "base_uri": "https://localhost:8080/",
          "height": 472
        },
        "id": "1swJUdAD8DC2",
        "outputId": "b77f1494-7f2f-4b6e-f255-527f7d9328a6"
      },
      "outputs": [
        {
          "data": {
            "image/png": "[encoded data removed]",
            "text/plain": [
              "<Figure size 1000x600 with 1 Axes>"
            ]
          },
          "metadata": {},
          "output_type": "display_data"
        }
      ],
      "source": [
        "plt.figure(figsize=(10,6))\n",
        "sns.barplot(x='weekday', y='cnt', data=day_df, estimator=sum)\n",
        "plt.title('Total Penyewaan Sepeda Berdasarkan Hari')\n",
        "plt.xlabel('Hari')\n",
        "plt.ylabel('Total Penyewaan')\n",
        "plt.show()"
      ]
    },
    {
      "cell_type": "markdown",
      "metadata": {
        "id": "CqXZSXU9CBIz"
      },
      "source": [
        "### Pertanyaan 2:"
      ]
    },
    {
      "cell_type": "code",
      "execution_count": 10,
      "metadata": {
        "colab": {
          "base_uri": "https://localhost:8080/",
          "height": 472
        },
        "id": "qkFPgIVbCQ-v",
        "outputId": "4e59f70b-c00a-455f-e081-2b7315ffb68d"
      },
      "outputs": [
        {
          "data": {
            "image/png": "[encoded data removed]",
            "text/plain": [
              "<Figure size 1000x600 with 1 Axes>"
            ]
          },
          "metadata": {},
          "output_type": "display_data"
        }
      ],
      "source": [
        "plt.figure(figsize=(10,6))\n",
        "sns.barplot(x='hr', y='cnt', data=hour_df, estimator=sum)\n",
        "plt.title('Total Penyewaan Sepeda Berdasarkan Jam')\n",
        "plt.xlabel('Jam')\n",
        "plt.ylabel('Total Penyewaan')\n",
        "plt.show()"
      ]
    },
    {
      "cell_type": "markdown",
      "metadata": {
        "id": "DgHI7CiU8DC2"
      },
      "source": [
        "### Pertanyaan 3:"
      ]
    },
    {
      "cell_type": "code",
      "execution_count": 13,
      "metadata": {
        "colab": {
          "base_uri": "https://localhost:8080/",
          "height": 463
        },
        "id": "Go0lCsvO8DC2",
        "outputId": "438c1350-5891-4520-a6c3-77a9a057654f"
      },
      "outputs": [
        {
          "data": {
            "image/png": "[encoded data removed]",
            "text/plain": [
              "<Figure size 800x800 with 1 Axes>"
            ]
          },
          "metadata": {},
          "output_type": "display_data"
        }
      ],
      "source": [
        "\n",
        "plt.figure(figsize=(8, 8))\n",
        "\n",
        "y = dayweather_agg[('cnt', 'sum')]\n",
        "x = dayweather_agg.index\n",
        "plt.pie(y, labels=x, autopct='%1.1f%%', startangle=90, colors=['#6499E9', '#FFA07A', '#90EE90', '#FFD700'])\n",
        "plt.title('Persentase Penyewaan Sepeda Berdasarkan Kondisi Cuaca')\n",
        "plt.axis('equal') \n",
        "plt.show()"
      ]
    },
    {
      "cell_type": "markdown",
      "metadata": {
        "id": "_0-36BDLklRg"
      },
      "source": [
        "**Insight:**\n",
        "- berdasarkar visualisasi pertanyaan pertama kita dapat melihat bahwa perbedaan jumlah penyewaan sepeda tidak terlalu jauh berdasarkan harinya\n",
        "- pada visualisasi pertanyaan ke 2 terdapat perbedaan yang cukup signifikan dari jumlah penyewaan sepeda berdasarkan jam\n",
        "- pada malam sampai subuh hari mulai dari jam 0-6 merupakan jam dimana jumlah penyewaan sepeda sangat sedikit\n",
        "- jumlah penyewaan sepeda pada setiap kondisi cuaca memiliki perbedaan yang sangat besar"
      ]
    },
    {
      "cell_type": "markdown",
      "metadata": {
        "id": "9y4VUsmcYNZ5"
      },
      "source": [
        "## Analisis Lanjutan (Opsional)"
      ]
    },
    {
      "cell_type": "code",
      "execution_count": 14,
      "metadata": {
        "colab": {
          "base_uri": "https://localhost:8080/",
          "height": 463
        },
        "id": "iWhnzsJGYUCO",
        "outputId": "56ed1db2-d860-4645-e5f8-ffa63d027de9"
      },
      "outputs": [
        {
          "data": {
            "image/png": "[encoded data removed]",
            "text/plain": [
              "<Figure size 1000x600 with 1 Axes>"
            ]
          },
          "metadata": {},
          "output_type": "display_data"
        }
      ],
      "source": [
        "\n",
        "plt.figure(figsize=(10, 6))\n",
        "y = hourweather_agg[('cnt', 'sum')]\n",
        "x = hourweather_agg.index \n",
        "plt.plot(x, y, color='#6499E9', marker='o', linestyle='-', linewidth=2, markersize=6)\n",
        "plt.xticks(ticks=np.arange(min(x), max(x)+1, 1)) \n",
        "plt.gca().yaxis.set_major_formatter(ticker.FuncFormatter(lambda x, pos: '{:,.0f}'.format(x)))\n",
        "plt.title('Total Penyewaan Sepeda Berdasarkan Kondisi Cuaca (Line Chart)')\n",
        "plt.xlabel('Kondisi Cuaca')\n",
        "plt.ylabel('Total Penyewaan Sepeda')\n",
        "plt.grid(True)\n",
        "plt.show()"
      ]
    },
    {
      "cell_type": "markdown",
      "metadata": {
        "id": "-hqeBXFAZt-e"
      },
      "source": [
        "**Insight:**\n",
        "- Setelah saya menganalisis lebih lanjut saya menemukan perbedaan pada jumlah kondisi cuaca berdasarkan hari dan jam. Dimana jumlah kondisi cuaca berdasarkan hari hanya 3 sedangkan berdasarkan jam sebanyak 4 kondisi.\n",
        "- Untuk perbedaan jumlah penyewaan sepeda masih sama yaitu sangat signifikan"
      ]
    },
    {
      "cell_type": "markdown",
      "metadata": {
        "id": "_WeHlCeX8DC2"
      },
      "source": [
        "## Conclusion"
      ]
    },
    {
      "cell_type": "markdown",
      "metadata": {
        "id": "ZTcyR48Y8DC2"
      },
      "source": [
        "- Conclution pertanyaan 1: Penyewaan sepeda paling banyak dilakukan pada hari nomor 5 dari weekday\n",
        "- Conclution pertanyaan 2: Penyewaan sepeda paling banyak dilakukan pada jam 17.00\n",
        "- Conclution pertanyaan 3: Kondisi cuaca sangat berpengaruh dalam penyewaan sepeda dimana dari data dapat kita lihat bahwa semakin buruk kondisi cuaca maka penyewaan sepeda juga akan semakin kecil, bahkan perbedaannya sangat signifikan. Hal ini berarti kondisi cuaca yang baik merupakan faktor yang sangat penting untuk penyewaan sepeda"
      ]
    }
  ],
  "metadata": {
    "colab": {
      "provenance": []
    },
    "kernelspec": {
      "display_name": "Python 3",
      "language": "python",
      "name": "python3"
    },
    "language_info": {
      "codemirror_mode": {
        "name": "ipython",
        "version": 3
      },
      "file_extension": ".py",
      "mimetype": "text/x-python",
      "name": "python",
      "nbconvert_exporter": "python",
      "pygments_lexer": "ipython3",
      "version": "3.11.1"
    },
    "orig_nbformat": 4,
    "vscode": {
      "interpreter": {
        "hash": "972b3bf27e332e87b5379f2791f6ef9dfc79c71018c370b0d7423235e20fe4d7"
      }
    }
  },
  "nbformat": 4,
  "nbformat_minor": 0
}
